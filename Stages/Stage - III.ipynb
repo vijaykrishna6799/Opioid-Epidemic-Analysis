{
 "cells": [
  {
   "cell_type": "markdown",
   "metadata": {
    "slideshow": {
     "slide_type": "slide"
    }
   },
   "source": [
    "## Project Stage - III (Distributions and Hypothesis Testing)"
   ]
  },
  {
   "cell_type": "markdown",
   "metadata": {},
   "source": [
    "## Goals\n",
    "\n",
    "The goal of Stage III is to develop advanced data for modeling for comparative analysis and hypothesis testing. \n"
   ]
  },
  {
   "cell_type": "markdown",
   "metadata": {
    "slideshow": {
     "slide_type": "subslide"
    }
   },
   "source": [
    "### Tasks:\n",
    "\n",
    "#### Task 1: Distribution Analysis (50 pts)     \n",
    "- Member: (50 pts)\n",
    "    - **M1.1** Compare NC and KY on Opioid Mortality - 2019 Data (20 pts)\n",
    "         - Create histograms for NC and KY for Opioid Mortality (Normalized Mortality Rate)\n",
    "         - Merge them into a single graph\n",
    "         - Plot mean lines for both the histograms\n",
    "         - Example below\n",
    "         <img src=\"../img/example_hist.png\" width=600 height=600 />\n",
    "         \n",
    "    - **M1.2** Evaluate a distribution for the Normalized Mortality Rate (20 pts)\n",
    "        - Choose a distribution for Normalized Mortality Rate\n",
    "            - Provide explanation of your choice\n",
    "        - Develop distribution estimator with - Method of Moments (MoM), Maximum Likelihood (MLE), and Kernel Density Estimation (KDE)\n",
    "        - Plot the distribution estimations over the histograms\n",
    "            - Each should be color coded on the graph and described for their parameters\n",
    "            - Discuss which estimator works the best and why\n",
    "        - Example below\n",
    "         <img src=\"../img/example_est.png\" width=600 height=600 />\n",
    "    - **M1.3** Select the top two states identified in Stage I and recreate the M1.2 task (10 pts)\n",
    "         - Discuss the results\n",
    "\n",
    "#### Task 2: Hypothesis Testing and Regression (50 pts)     \n",
    "- Member: (50 pts)\n",
    "    - **M2.1** Formulate Hypothesis for 5 identified variables in Stage 1 and test the hypothesis (25 pts)\n",
    "        - For example, if your variable was `Premature death raw value`, divide the observations into two categories, high and low\n",
    "            - Compare the distributions for a hypothesis test.\n",
    "        - Formally state the Null and Alternative Hypothesis\n",
    "        - Define the type of hypothesis and the thresholds\n",
    "        - Conduct the test and discuss the results for all 5 variables\n",
    "    - **M2.2** Perform linear regression to discover patterns (25 pts)\n",
    "         - Perform a linear regression between Normalized Mortality and `Opiod_Dispensing_Rate`\n",
    "             - Normalize the `Opiod_Dispensing_Rate` to the population\n",
    "         - Perform multiple linear regression model with your 5 variables and `Opiod_Dispensing_Rate`\n",
    "             - Evaluate the results and describe them.\n",
    "         - Test non-linear model with the 5 + 1 variables (n=2,3,4)\n",
    "             - Evaluate the results and describe them.\n",
    "        \n",
    "**Deliverable**\n",
    "- Each member creates separate notebooks for member tasks. Upload all notebooks and reports to Github Repository. \n",
    "- Discuss the results as a team. Put together a presentation of your findings, record it via zoom, and upload the recording to canvas.\n",
    "\n",
    "*PS: Try to use `Plotly` for your charts. Will be useful in Stage V. As plotly graphs are intereactive they are not rendered properly in Github. You can use the approach here to render static images: https://plotly.com/python/static-image-export/. Submission to the repository should contain static images in the notebook.*"
   ]
  },
  {
   "cell_type": "code",
   "execution_count": null,
   "metadata": {},
   "outputs": [],
   "source": []
  }
 ],
 "metadata": {
  "celltoolbar": "Slideshow",
  "kernelspec": {
   "display_name": "Python 3 (ipykernel)",
   "language": "python",
   "name": "python3"
  },
  "language_info": {
   "codemirror_mode": {
    "name": "ipython",
    "version": 3
   },
   "file_extension": ".py",
   "mimetype": "text/x-python",
   "name": "python",
   "nbconvert_exporter": "python",
   "pygments_lexer": "ipython3",
   "version": "3.9.7"
  }
 },
 "nbformat": 4,
 "nbformat_minor": 4
}
