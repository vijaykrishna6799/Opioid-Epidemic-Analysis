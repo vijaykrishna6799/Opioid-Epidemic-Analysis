{
 "cells": [
  {
   "cell_type": "markdown",
   "metadata": {
    "slideshow": {
     "slide_type": "slide"
    }
   },
   "source": [
    "## Project Stage - II (Data Modeling)"
   ]
  },
  {
   "cell_type": "markdown",
   "metadata": {
    "slideshow": {
     "slide_type": "-"
    }
   },
   "source": [
    "## Goals\n",
    "\n",
    "The goal of Stage II is to develop the data for modeling and comparative analysis. Here you will be graphically comparing how different states are doing with respect to opioid mortality rate. And you will be also analysing county based information for different states in the US.\n"
   ]
  },
  {
   "cell_type": "markdown",
   "metadata": {},
   "source": [
    "Dataset:\n",
    "\n",
    "We are going to use historical dataset here for opioid related mortality from 1999 -2019 for different causes of death. Extracted from:\n",
    "- https://wonder.cdc.gov/wonder/help/ucd.html#Drug/Alcohol%20Induced%20Causes\n",
    "- File: `./data/1999-2020_Drug_Overdose_By_Category.csv`"
   ]
  },
  {
   "cell_type": "markdown",
   "metadata": {
    "slideshow": {
     "slide_type": "subslide"
    }
   },
   "source": [
    "### Tasks:\n",
    "\n",
    "#### Task 1: (100 pts)\n",
    "- Team: (40)\n",
    "    - **T1.1** Import the historical data from: `./data/1999-2020_Drug_Overdose_By_Category.xls` (10 pts)\n",
    "        - Identify peaks in US Opioid Mortality\n",
    "            - Normalize the mortality by population\n",
    "            - Calculate mean for states and then mean for US per year\n",
    "            - Plot a line graph \n",
    "                - https://plotly.com/python/line-charts/\n",
    "        - Discuss why there was a peak\n",
    "    - **T1.2** Identify trends in states (10 pts)\n",
    "         - Identify top 5 states which are increasing in their opioid numbers\n",
    "         - Identify top 5 states which are reducing their opioid numbers\n",
    "         \n",
    "    - **T1.3** Plot a graph of the aforementioned states (T1.2) in a line graph (10 pts)\n",
    "         - Two graphs with 5 lines each representing the states.\n",
    "    \n",
    "    - **T1.4** Plot a scatter plot graph of normalized mortality by state with respect to the log of the population.\n",
    "         - Groupby county\n",
    "         - Groupby state\n",
    "         - https://plotly.com/python/line-and-scatter/\n",
    "         - Color code the dots by the state.\n",
    "\n",
    "    \n",
    "- Member: (60 pts)\n",
    "    - **M1.1** Understand the distribution and measures of center for US opioid mortality for 2019 (20 pts)\n",
    "         - Import the super dataframe created in Stage I\n",
    "         - Create a histogram of Normalized Deaths variable for entire US as a distribution. \n",
    "             - https://plotly.com/python/histograms/#histograms-with-gohistogram\n",
    "             - https://plotly.com/python/histograms/\n",
    "         - Add a vertical line to the histogram representing the ***mean*** Normalized Opioid Death for US. \n",
    "             - You should be able to do that with `fig.add_vline()`\n",
    "             - https://plotly.com/python/horizontal-vertical-shapes/\n",
    "         - Add another line for ***median*** to compare\n",
    "    - **M1.2** Understand variable to mortality relationships for 2019 data (40 pts)\n",
    "        - Here we codify the column Normalized Deaths (Number of Deaths per 100k Population - `Norm_Deaths`) and store it as a `label` column. (10 pts)\n",
    "            - The codification is based on the quantile distribution of the Normalized deaths. i.e.\n",
    "                - Very Low (v_low) - [1.999 - 8.0]\n",
    "                - Low (low) - [8.0 - 11.0]\n",
    "                - High (high) - [11.0 - 16.0]\n",
    "                - Very High (v_high) - [16.0 - 64.0]\n",
    "        - Now try the variables you have identified in Stage I and plot them as a second variable to Normalized Mortality in a scatter plot to observe any trends. (20 pts)\n",
    "            - For example, if you said population was a indicator, then used population values as the your `y` in scatter plot where `x` is your Normalized Mortality\n",
    "        - Describe any trends you observe. (10 pts)\n",
    "        - ***Extra credit (additional 20 pts)***\n",
    "            - Develop the above approach as a Plotly widget for jupyter, where you can try out the variables dynamically in a simple dashboard. The variables can be in a dropdown. \n",
    "            - https://plotly.com/python/figurewidget-app/\n",
    "\n",
    "**Deliverable**\n",
    "- Each member creates separate notebooks for member tasks. Upload all notebooks and reports to Github Repository. \n",
    "- Discuss the results as a team. Put together a presentation of your findings, record it via zoom, and upload the recording to canvas.\n",
    "\n",
    "*PS: Try to use `Plotly` for your charts. Will be useful in Stage V. As plotly graphs are intereactive they are not rendered properly in Github. You can use the approach here to render static images: https://plotly.com/python/static-image-export/. Submission to the repository should contain static images in the notebook.*"
   ]
  },
  {
   "cell_type": "code",
   "execution_count": null,
   "metadata": {},
   "outputs": [],
   "source": []
  }
 ],
 "metadata": {
  "celltoolbar": "Slideshow",
  "kernelspec": {
   "display_name": "Python 3 (ipykernel)",
   "language": "python",
   "name": "python3"
  },
  "language_info": {
   "codemirror_mode": {
    "name": "ipython",
    "version": 3
   },
   "file_extension": ".py",
   "mimetype": "text/x-python",
   "name": "python",
   "nbconvert_exporter": "python",
   "pygments_lexer": "ipython3",
   "version": "3.9.7"
  }
 },
 "nbformat": 4,
 "nbformat_minor": 4
}
