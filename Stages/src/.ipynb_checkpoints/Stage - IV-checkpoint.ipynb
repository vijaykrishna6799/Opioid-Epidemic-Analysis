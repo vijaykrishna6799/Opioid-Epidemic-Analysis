{
 "cells": [
  {
   "cell_type": "markdown",
   "metadata": {},
   "source": [
    "## Project Stage - IV (Dashboard)"
   ]
  },
  {
   "cell_type": "markdown",
   "metadata": {},
   "source": [
    "## Goals\n",
    "\n",
    "The final stage aims a developing a simple interactive dashboard based on the analysis you have done so far. In this we will be utilizing Plotly (https://plotly.com/) along with Dash (https://plotly.com/dash/) as our framework. \n",
    "\n",
    "Getting started with Dash: https://www.youtube.com/watch?v=hSPmj7mK6ng\n",
    "\n",
    "*PS: This can be invoked from Jupyter, see here: https://medium.com/plotly/introducing-jupyterdash-811f1f57c02e*"
   ]
  },
  {
   "cell_type": "markdown",
   "metadata": {},
   "source": [
    "### Tasks:\n",
    "\n",
    "#### Task 1: (100 pts)\n",
    "- Member:\n",
    "    - Dashboard\n",
    "        - **M1.1** Shows comparisions between a variable and Normalized Mortality rate in a scatter plot\n",
    "            -- Incorporate your best model prediction trend line - Linear / Non-Linear. (20 pts)\n",
    "            \n",
    "        - **M1.2** Contains a data table (20 pts)\n",
    "        - **M1.3** Contains a map displaying values of either variables (20 pts)\n",
    "        - **M1.4** Selectors (30 pts)\n",
    "            - Allows for linear or log mode selection on both the variables for scatter plot. \n",
    "            - Allows for selection of state.\n",
    "            - Allows for linear or log mode selection on both the variables. \n",
    "            - Allows for selection of which variable to display on the map.\n",
    "        \n",
    "        - **M1.4** Selection of on the graph or Data Table highlights the other ones. (10 pts)\n",
    "        \n",
    "        - A partial example:\n",
    "        \n",
    "        <img src=\"../images/Dashboard1.png\" width=800 height=800 />\n",
    "     \n",
    "***Extra Credit:*** Creative elements with the provided data and good design. Can earn upto 50 pts extra.\n",
    "\n",
    "**Deliverable**\n",
    "- Take screenshots of Report upload on canvas.\n",
    "- Each member creates separate notebooks for member tasks. Upload all notebooks to Github Repository. \n",
    "- Final Presentation recordings on canvas."
   ]
  },
  {
   "cell_type": "code",
   "execution_count": null,
   "metadata": {},
   "outputs": [],
   "source": []
  },
  {
   "cell_type": "code",
   "execution_count": null,
   "metadata": {},
   "outputs": [],
   "source": []
  }
 ],
 "metadata": {
  "kernelspec": {
   "display_name": "Python 3 (ipykernel)",
   "language": "python",
   "name": "python3"
  },
  "language_info": {
   "codemirror_mode": {
    "name": "ipython",
    "version": 3
   },
   "file_extension": ".py",
   "mimetype": "text/x-python",
   "name": "python",
   "nbconvert_exporter": "python",
   "pygments_lexer": "ipython3",
   "version": "3.9.7"
  },
  "nteract": {
   "version": "0.28.0"
  }
 },
 "nbformat": 4,
 "nbformat_minor": 2
}
