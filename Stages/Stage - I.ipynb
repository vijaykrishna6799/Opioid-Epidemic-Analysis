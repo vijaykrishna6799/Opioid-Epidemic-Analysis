{
 "cells": [
  {
   "cell_type": "markdown",
   "metadata": {
    "slideshow": {
     "slide_type": "slide"
    }
   },
   "source": [
    "# Stage I - Data Understanding and Linking\n",
    "\n",
    "## What is the U.S. Opioid Epidemic?\n",
    "\n",
    "- In the late 1990s, pharmaceutical companies reassured the medical community that patients would not become addicted to opioid pain relievers and healthcare providers began to prescribe them at greater rates.\n",
    "\n",
    "- Increased prescription of opioid medications led to widespread misuse of both prescription and non-prescription opioids before it became clear that these medications could indeed be highly addictive.\n",
    "\n",
    "![opioid](https://www.hhs.gov/opioids/sites/default/files/inline-images/opioids-infographic.png)\n",
    "\n",
    "Source: https://www.hhs.gov/opioids/about-the-epidemic/index.html\n"
   ]
  },
  {
   "cell_type": "markdown",
   "metadata": {},
   "source": [
    "We are going to study the underlying patterns that exist between opioid related deaths and the different socio-economic, demographic, geographic, and equity related variables that are available for US population. Our goal is to extract such patterns and understand them futher using data science techniques. \n",
    "\n",
    "In order to achieve that, the project is separated into 5 stages:\n",
    "\n",
    "- Stage I - Data and Project Understanding,\n",
    "- Stage II - Data Modeling,\n",
    "- Stage III - Distributions and Hypothesis Testing,\n",
    "- Stage IV - Dashboard\n",
    "\n"
   ]
  },
  {
   "cell_type": "markdown",
   "metadata": {
    "slideshow": {
     "slide_type": "subslide"
    }
   },
   "source": [
    "\n",
    "### Opioid overdose dataset linking\n",
    "\n",
    "In this stage we utilize multiple publicly available datasets and link them together for analytics. Our goal here is to help identify patterns which contribute to drug overdose deaths. Within this notebook we will explore:\n",
    "\n",
    "1. **Creating Index** - Developing an index key for linking datasets\n",
    "2. **Join** - Using join to merge data based on index key.\n",
    "\n",
    "The notebooks is viewable via any browser. \n",
    "\n",
    "#### Software used (open source):\n",
    "\n",
    "- `python` - https://www.python.org/download/releases/3.0/\n",
    "- `pandas` - https://pandas.pydata.org/\n",
    "- `plotly` - https://plotly.com/"
   ]
  },
  {
   "cell_type": "markdown",
   "metadata": {
    "slideshow": {
     "slide_type": "slide"
    }
   },
   "source": [
    "### Datasets\n"
   ]
  },
  {
   "cell_type": "markdown",
   "metadata": {
    "slideshow": {
     "slide_type": "fragment"
    }
   },
   "source": [
    "#### 1. Drug Overdose Dataset\n",
    "\n",
    "The overdose death/cause dataset was obtained from CDC Wonder (https://wonder.cdc.gov/ucd-icd10.html). The dataset is from the Underlying Cause of Death database contains mortality and population counts for all U.S. counties. Data are based on death certificates for U.S. residents. Each death certificate identifies a single underlying cause of death and demographic data. \n",
    "\n",
    "- From this data we obtained the Drug/Alcohol Induced causes data for 2019 across all counties in US. \n",
    "- https://wonder.cdc.gov/wonder/help/ucd.html#Drug/Alcohol%20Induced%20Causes\n",
    "- File: `./data/Underlying Cause of Death-County-2019.txt`"
   ]
  },
  {
   "cell_type": "markdown",
   "metadata": {
    "slideshow": {
     "slide_type": "subslide"
    }
   },
   "source": [
    "#### 2. County Health Rankings\n",
    "\n",
    "The County Health Rankings provide a snapshot of a community’s health and a starting point for investigating and discussing ways to improve health. The annual Rankings measures vital health factors, including high school graduation rates, obesity, smoking, unemployment, access to healthy foods, the quality of air and water, income inequality, and teen births in nearly every county in America. The dataset provides a snapshot of how health is influenced by where we live, learn, work and play.\n",
    "\n",
    "- From this data we obtained the measures data for 2019 across all counties in US. \n",
    "- https://www.countyhealthrankings.org/\n",
    "- Data Dictionary - https://www.countyhealthrankings.org/sites/default/files/DataDictionary_2019.pdf\n",
    "- File: `./data/County_Health_Ranking.csv`"
   ]
  },
  {
   "cell_type": "markdown",
   "metadata": {
    "slideshow": {
     "slide_type": "subslide"
    }
   },
   "source": [
    "#### 3. County Opioid Dispensing Rates\n",
    "\n",
    "The third dataset in this notebook is the Opoid Dispensing Rate dataset. The dataset has geographic distribution of retail opioid prescriptions dispensed per 100 persons per year from 2006–2019. Rates are classified by the Jenks natural breaks classification method into four groups using the 14-year range of data to determine the class breaks. \n",
    "\n",
    "- We utilize County Opoid Dispensing Rates for 2019.\n",
    "- https://www.cdc.gov/drugoverdose/maps/rxcounty2019.html\n",
    "- File: `./data/2019-Opioid_Rate.csv`"
   ]
  },
  {
   "cell_type": "markdown",
   "metadata": {
    "slideshow": {
     "slide_type": "slide"
    }
   },
   "source": [
    "## Tasks:\n",
    "\n",
    "#### Task 1: (10 pts)\n",
    "- **T1.1** Initialize a Github Repository for your project. (10 pts)\n",
    "    - Add a description (readme.MD) to your project. See here on how to setup: https://bulldogjob.com/news/449-how-to-write-a-good-readme-for-your-github-project\n",
    "\n",
    "#### Task 2: (50 pts)\n",
    "- Team:\n",
    "    - **T2.1** Entire team looks at the datasets and understands the type of variables present in each of the data. (10 pts)\n",
    "        - **Deliverable** \n",
    "            - Create a report of what the project is about, why this is an important area of work (in your own words), and how can data science help.\n",
    "            - Outline how the datasets can be merged together and the common variables. \n",
    "        \n",
    "- Member: \n",
    "    - **M2.1** Study prior research in the area. (20 pts)\n",
    "        - Read https://link.springer.com/article/10.1007/s40265-017-0846-6\n",
    "        - Select one other paper to study in relation to the area. Use https://scholar.google.com/ to search for papers which are related to the goal of this project.\n",
    "        - **Deliverable**\n",
    "            - Prepare a 1 page summary of what was discovered in these two paper. Significant outcomes, i.e. which variables/determinants are linked to opioid endemic. \n",
    "    - **M2.2** Each student member of the team selects 10 variables they think that are important from the available dataset. (20 pts) \n",
    "        - **Deliverable**\n",
    "            - Prepare a data dictionary (data and datatype - variable dictionary. https://analystanswers.com/what-is-a-data-dictionary-a-simple-thorough-overview/) of the selected variables\n",
    "            - Include justification of why you think the variables are important. \n",
    "\n",
    "Upload the team and member reports to canvas and your Github Repository. \n",
    "\n",
    "#### Task 3: (50 pts)\n",
    "- Team: (20 pts)\n",
    "    \n",
    "    - **T3.1** Create a team notebook to read in the Opioid Mortality data using `pandas` and display the dataframe in a notebook.\n",
    "    - **T3.2** Normalize the mortality data by population, i.e. number of deaths per 100,000 population. \n",
    "    - **T3.3** Identify issues with the data\n",
    "        - Merge issues, missing values, inconsistent values, etc.\n",
    "        - Describe solutions to fix it. \n",
    "    \n",
    "- Member: (30 pts)\n",
    "    - **M3.1** Merge all the three datasets to create a super datafame. (10 pts)\n",
    "        - Display the super dataframe - Its should be (2527, 542) shape\n",
    "        - Export it to a csv format.\n",
    "    - **M3.2** Identify counties and states (top 10) with the highest opioid mortality rates. (20 pts)\n",
    "        - Use mean and median for counties within states to compare (for the state level).\n",
    "        - Describe your intution on why the rates are high in these states and counties. \n",
    "\n",
    "**Deliverable**\n",
    "Each member creates separate notebooks for member tasks. Upload all notebooks to Github Repository. \n"
   ]
  },
  {
   "cell_type": "code",
   "execution_count": null,
   "metadata": {
    "slideshow": {
     "slide_type": "-"
    }
   },
   "outputs": [],
   "source": []
  }
 ],
 "metadata": {
  "celltoolbar": "Slideshow",
  "kernelspec": {
   "display_name": "Python 3 (ipykernel)",
   "language": "python",
   "name": "python3"
  },
  "language_info": {
   "codemirror_mode": {
    "name": "ipython",
    "version": 3
   },
   "file_extension": ".py",
   "mimetype": "text/x-python",
   "name": "python",
   "nbconvert_exporter": "python",
   "pygments_lexer": "ipython3",
   "version": "3.9.7"
  },
  "vscode": {
   "interpreter": {
    "hash": "8744b95912be81f92561bcd2e455a72058efc68fff5f4fb153d16a47ddee2a75"
   }
  }
 },
 "nbformat": 4,
 "nbformat_minor": 4
}
